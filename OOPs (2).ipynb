{
  "nbformat": 4,
  "nbformat_minor": 0,
  "metadata": {
    "colab": {
      "provenance": []
    },
    "kernelspec": {
      "name": "python3",
      "display_name": "Python 3"
    },
    "language_info": {
      "name": "python"
    }
  },
  "cells": [
    {
      "cell_type": "markdown",
      "source": [
        "## **Python OOPS Questions**"
      ],
      "metadata": {
        "id": "Fgs6CCVgoLYq"
      }
    },
    {
      "cell_type": "markdown",
      "source": [
        " 1. What is Object-Oriented Programming (OOP)?\n",
        " - OOP is a program structure that is around objects which are instances of classes.\n",
        " It also focusses on organizing code by bundling data and the operations that manipulate that data into single unit.\n",
        " The key concepts of OOP are:\n",
        " 1.Class: It is blueprint for creating objects,it defines data and methods that the objects created from the class will have.\n",
        " 2.Object: It is an instance of a class, it represents a real world entity with state (attributes) and behaviour (methods)\n",
        " 3.\n"
      ],
      "metadata": {
        "id": "iWe1NOk7oUHF"
      }
    },
    {
      "cell_type": "markdown",
      "source": [
        "2. What is a class in OOP?\n",
        "In OOP, a class is a blueprint or template for creating objects. It defines the structure and behaviour of the objects by specifying:\n",
        "Attributes(data members): variables that store the state of an object\n",
        "Methods(functions): functions that define the actions or behaviour of the object.\n",
        "In the below example: car is a class.\n",
        "A class defines the properties and behaviours, while objects are specific instances of that class.\n"
      ],
      "metadata": {
        "id": "dqWJgTWjoUAQ"
      }
    },
    {
      "cell_type": "code",
      "source": [
        "class Car:\n",
        "    def __init__(self, brand, color):\n",
        "        self.brand = brand\n",
        "        self.color = color\n",
        "\n",
        "    def drive(self):\n",
        "        print(f\"The {self.color} {self.brand} is driving.\")\n",
        "my_car = Car(\"suzuki\", \"Red\")\n",
        "my_car.drive()\n",
        "\n"
      ],
      "metadata": {
        "colab": {
          "base_uri": "https://localhost:8080/"
        },
        "id": "jetem3IjG-tR",
        "outputId": "b1b39508-2c7c-4a4b-ca71-be5490c5f3e6"
      },
      "execution_count": null,
      "outputs": [
        {
          "output_type": "stream",
          "name": "stdout",
          "text": [
            "The Red suzuki is driving.\n"
          ]
        }
      ]
    },
    {
      "cell_type": "markdown",
      "source": [
        "3. What is an object in OOP?\n",
        "- An object in OOP is self contained unit that combines both data and methods that operate on the data.\n",
        "It is created from a class, which is a blueprint.\n",
        "It is an instance of a class with state and behaviour\n",
        "The object components are:\n",
        "State- stored in attributes, eg- name, age.\n",
        "Behaviour- defined by methods, eg- walk(),speak().\n"
      ],
      "metadata": {
        "id": "rUA9ynSDoT83"
      }
    },
    {
      "cell_type": "code",
      "source": [
        "class Dog:\n",
        "    def __init__(self, name):\n",
        "        self.name = name\n",
        "\n",
        "    def bark(self):\n",
        "        print(f\"{self.name} says woof!\")\n",
        "my_dog = Dog(\"Tommy\")\n",
        "my_dog.bark()\n"
      ],
      "metadata": {
        "colab": {
          "base_uri": "https://localhost:8080/"
        },
        "id": "7M1WRLwKTaFo",
        "outputId": "7f0e6ead-7eb0-4e85-aaab-ed4171f2ed80"
      },
      "execution_count": null,
      "outputs": [
        {
          "output_type": "stream",
          "name": "stdout",
          "text": [
            "Tommy says woof!\n"
          ]
        }
      ]
    },
    {
      "cell_type": "markdown",
      "source": [
        "4. What is the difference between abstraction and encapsulation?\n",
        "- The difference between abstraction and encapsulation in OOP are:\n",
        " Abstraction\n",
        "Definition: It Hides complex implementation details and shows only the essential features of an object.\n",
        "Purpose:It reduces the complexity\n",
        "Method: Achieved through abstract classes or interfaces.\n",
        " Encapsulation\n",
        "Definition:It Hides the internal state and requires all interaction to be performed through an object's methods.\n",
        "Purpose:It protects the data and ensures that objects control and the internal state how it is modified or accessed.\n",
        "Method: It can be achieved by private/protected attributes and getter/setter methods.\n"
      ],
      "metadata": {
        "id": "t57XYIhP5S9H"
      }
    },
    {
      "cell_type": "code",
      "source": [
        "#abstract code\n",
        "from abc import ABC, abstractmethod\n",
        "\n",
        "class Animal(ABC):\n",
        "    @abstractmethod\n",
        "    def make_sound(self):\n",
        "        pass\n",
        "\n",
        "class Dog(Animal):\n",
        "    def make_sound(self):\n",
        "        print(\"Woof!\")\n",
        "\n",
        "dog = Dog()\n",
        "dog.make_sound()"
      ],
      "metadata": {
        "colab": {
          "base_uri": "https://localhost:8080/"
        },
        "id": "GowunqKGsngF",
        "outputId": "21b4f976-7979-4c29-ee15-e4a33141bc85"
      },
      "execution_count": null,
      "outputs": [
        {
          "output_type": "stream",
          "name": "stdout",
          "text": [
            "Woof!\n"
          ]
        }
      ]
    },
    {
      "cell_type": "code",
      "source": [
        "#encapsulation\n",
        "class Person:\n",
        "    def __init__(self):\n",
        "        self.__age = 0\n",
        "\n",
        "    def set_age(self, age):\n",
        "        if age > 0:\n",
        "            self.__age = age\n",
        "\n",
        "    def get_age(self):\n",
        "        return self.__age\n",
        "\n",
        "person = Person()\n",
        "person.set_age(24)\n",
        "print(person.get_age())\n"
      ],
      "metadata": {
        "colab": {
          "base_uri": "https://localhost:8080/"
        },
        "id": "MX_d1MnYtDix",
        "outputId": "b08893b5-33f5-4f6e-8ab7-7ca00378f745"
      },
      "execution_count": 1,
      "outputs": [
        {
          "output_type": "stream",
          "name": "stdout",
          "text": [
            "24\n"
          ]
        }
      ]
    },
    {
      "cell_type": "markdown",
      "source": [
        "5. What are dunder methods in Python?\n",
        "- Dunder methods (short for double underscore methods) in Python are special methods that have two underscores at the beginning and end of their names. They are also known as magic methods or special methods, and they enable objects to interact with built-in Python operations and functions.\n",
        "It can define or customize behavior for common operations (e.g., addition, string representation, comparison) for objects.\n",
        "Customizing Operations: Dunder methods  define how objects of class behave when they are used with operators (+, -, *, etc.) or built-in functions (len(), str(), repr(), etc.).\n",
        "It can access, modify, or implement default behavior for common operations like comparisons, arithmetic, or string formatting.\n",
        "\n",
        "\n"
      ],
      "metadata": {
        "id": "UiBSDzzY5U6G"
      }
    },
    {
      "cell_type": "code",
      "source": [
        "#__init__(self)\n",
        "class Person:\n",
        "    def __init__(self, name):\n",
        "        self.name = name\n",
        "p = Person(\"Mansi\")\n",
        "print(p.name)\n"
      ],
      "metadata": {
        "colab": {
          "base_uri": "https://localhost:8080/"
        },
        "id": "bSR3slrc3vnN",
        "outputId": "732b04e2-1667-438b-e42b-0856f059909c"
      },
      "execution_count": null,
      "outputs": [
        {
          "output_type": "stream",
          "name": "stdout",
          "text": [
            "Mansi\n"
          ]
        }
      ]
    },
    {
      "cell_type": "code",
      "source": [
        "#__str__(self)\n",
        "class Person:\n",
        "    def __init__(self, name):\n",
        "        self.name = name\n",
        "    def __str__(self):\n",
        "        return f\"Person named {self.name}\"\n",
        "p = Person(\"Mansi\")\n",
        "print(str(p))"
      ],
      "metadata": {
        "colab": {
          "base_uri": "https://localhost:8080/"
        },
        "id": "9S-rBu5J3_dk",
        "outputId": "2ce79bfb-f1fd-47aa-aa56-2f7a48b45dbf"
      },
      "execution_count": null,
      "outputs": [
        {
          "output_type": "stream",
          "name": "stdout",
          "text": [
            "Person named Mansi\n"
          ]
        }
      ]
    },
    {
      "cell_type": "code",
      "source": [
        "#__repr__(self)\n",
        "class Person:\n",
        "    def __init__(self, name):\n",
        "        self.name = name\n",
        "    def __repr__(self):\n",
        "        return f\"Person('{self.name}')\"\n",
        "p = Person(\"Mansi\")\n",
        "print(repr(p))"
      ],
      "metadata": {
        "colab": {
          "base_uri": "https://localhost:8080/"
        },
        "id": "f7MlWxho3_UI",
        "outputId": "e1061555-55cf-4443-e9f5-08c83979a41e"
      },
      "execution_count": null,
      "outputs": [
        {
          "output_type": "stream",
          "name": "stdout",
          "text": [
            "Person('Mansi')\n"
          ]
        }
      ]
    },
    {
      "cell_type": "code",
      "source": [
        "#__add__(self, other)\n",
        "class point:\n",
        "    def __init__(self, x, y):\n",
        "        self.x = x\n",
        "        self.y = y\n",
        "    def __add__(self, other):\n",
        "        return point(self.x + other.x, self.y + other.y)\n",
        "\n",
        "p1 = point(1, 2)\n",
        "p2 = point(3, 4)\n",
        "p3 = p1 + p2\n",
        "print(p3.x, p3.y)\n"
      ],
      "metadata": {
        "colab": {
          "base_uri": "https://localhost:8080/"
        },
        "id": "u5vPiXGw3_Ri",
        "outputId": "2e64c7d0-2cf7-4916-ea3c-6ab5d9f55e87"
      },
      "execution_count": null,
      "outputs": [
        {
          "output_type": "stream",
          "name": "stdout",
          "text": [
            "4 6\n"
          ]
        }
      ]
    },
    {
      "cell_type": "code",
      "source": [
        "#__eq__(self, other)\n",
        "class point:\n",
        "    def __init__(self, x, y):\n",
        "        self.x = x\n",
        "        self.y = y\n",
        "    def __eq__(self, other):\n",
        "        return self.x == other.x and self.y == other.y\n",
        "print (p1 == p2)\n",
        "\n"
      ],
      "metadata": {
        "colab": {
          "base_uri": "https://localhost:8080/"
        },
        "id": "T2qGEOFZ3_OB",
        "outputId": "27803586-d7fb-4417-8546-d1da2837483f"
      },
      "execution_count": null,
      "outputs": [
        {
          "output_type": "stream",
          "name": "stdout",
          "text": [
            "False\n"
          ]
        }
      ]
    },
    {
      "cell_type": "code",
      "source": [
        "#__len__(self)\n",
        "class Person:\n",
        "    def __init__(self, name):\n",
        "        self.name = name\n",
        "    def __len__(self):\n",
        "        return len(self.name)\n",
        "p = Person(\"Mansi\")\n",
        "print(len(p))"
      ],
      "metadata": {
        "colab": {
          "base_uri": "https://localhost:8080/"
        },
        "id": "zGkUWmn63-_P",
        "outputId": "0253290c-9809-450b-b20d-b002f411fbf6"
      },
      "execution_count": null,
      "outputs": [
        {
          "output_type": "stream",
          "name": "stdout",
          "text": [
            "5\n"
          ]
        }
      ]
    },
    {
      "cell_type": "code",
      "source": [
        "#__del__(self)\n",
        "class Person:\n",
        "    def __init__(self, name):\n",
        "        self.name = name\n",
        "    def __del__(self):\n",
        "        print(f\"{self.name} is destroyed\")\n",
        "p = Person(\"Mansi\")\n",
        "del p"
      ],
      "metadata": {
        "colab": {
          "base_uri": "https://localhost:8080/"
        },
        "id": "ZKSUY2ja5MVN",
        "outputId": "8cd67ba3-2ef8-4781-b8ed-55bb2a440cd2"
      },
      "execution_count": null,
      "outputs": [
        {
          "output_type": "stream",
          "name": "stdout",
          "text": [
            "Mansi is destroyed\n"
          ]
        }
      ]
    },
    {
      "cell_type": "markdown",
      "source": [
        "6. Explain the concept of inheritance in OOP?\n",
        "- Inheritance in (OOP)is It allows a new class (child class) to inherit attributes and methods from an existing class (parent class). The child class can reuse, extend, or modify the behavior of the parent class.\n",
        "Inheritance promotes code reusability, making it easier to maintain and extend the code.\n",
        "Parent Class (Base Class): The class whose attributes and methods are inherited.\n",
        "Child Class (Subclass): The class that inherits from the parent class and may have additional or modified features.\n",
        "Code Reusability: Reuse code from existing classes without rewriting it.\n",
        "Extensibility: Extend existing classes with new features.\n",
        "Maintainability: Easier to modify and maintain code since changes made in the parent class are reflected in all child classes.\n",
        "-Types of Inheritance:\n",
        "\n",
        "Single Inheritance: One child class inherits from one parent class.\n",
        "Example: Dog inherits from Animal.\n",
        "\n",
        "Multiple Inheritance: A child class inherits from multiple parent classes.\n",
        "Example: class Child(Parent1, Parent2)\n",
        "\n",
        "Multilevel Inheritance: A class is derived from a class that is also derived from another class.\n",
        "Example: Grandchild → Child → Parent\n",
        "\n",
        "Hierarchical Inheritance: Multiple child classes inherit from a single parent class.\n",
        "Example: Dog and Cat both inherit from Animal.\n"
      ],
      "metadata": {
        "id": "dTQ8gZ_-5Vih"
      }
    },
    {
      "cell_type": "code",
      "source": [
        "class Animal:\n",
        "    def __init__(self, name):\n",
        "        self.name = name\n",
        "\n",
        "    def speak(self):\n",
        "        print(f\"{self.name} makes a sound.\")\n",
        "\n",
        "class Dog(Animal):\n",
        "    def speak(self):\n",
        "        print(f\"{self.name} barks.\")\n",
        "\n",
        "class Cat(Animal):\n",
        "    def speak(self):\n",
        "        print(f\"{self.name} meows.\")\n",
        "\n",
        "dog = Dog(\"Tommy\")\n",
        "cat = Cat(\"catty\")\n",
        "\n",
        "dog.speak()\n",
        "cat.speak()\n"
      ],
      "metadata": {
        "colab": {
          "base_uri": "https://localhost:8080/"
        },
        "id": "s4bkw1K-5sig",
        "outputId": "09273ed1-8e0a-4394-8fca-1a2f39fbb15d"
      },
      "execution_count": 3,
      "outputs": [
        {
          "output_type": "stream",
          "name": "stdout",
          "text": [
            "Tommy barks.\n",
            "catty meows.\n"
          ]
        }
      ]
    },
    {
      "cell_type": "markdown",
      "source": [
        "7.What is polymorphism in OOP?\n",
        "- Polymorphism means \"many forms.\" It allows different classes to provide a different implementation of methods that share the same name.\n",
        " Same method name, different behavior depending on the object\n",
        "Polymorphism is useful to write flexible and reusable code, it can be called on same method on different objects and get different results.\n",
        "- Types of Polymorphism:\n",
        "Static Polymorphism – Achieved via method overloading.\n",
        "Dynamic Polymorphism – Achieved via method overriding."
      ],
      "metadata": {
        "id": "Z1l9DHiQ5v4i"
      }
    },
    {
      "cell_type": "code",
      "source": [
        "class Animal:\n",
        "    def speak(self):\n",
        "        print(\"Animal makes a sound\")\n",
        "\n",
        "class Dog(Animal):\n",
        "    def speak(self):\n",
        "        print(\"Dog barks\")\n",
        "\n",
        "class Cat(Animal):\n",
        "    def speak(self):\n",
        "        print(\"Cat meows\")\n",
        "\n",
        "animals = [Dog(), Cat(), Animal()]\n",
        "for animal in animals:\n",
        "    animal.speak()\n"
      ],
      "metadata": {
        "colab": {
          "base_uri": "https://localhost:8080/"
        },
        "id": "ZiQG6B6G6GdE",
        "outputId": "432c9c90-8b1a-4a5f-f90e-83e7c2f9944c"
      },
      "execution_count": null,
      "outputs": [
        {
          "output_type": "stream",
          "name": "stdout",
          "text": [
            "Dog barks\n",
            "Cat meows\n",
            "Animal makes a sound\n"
          ]
        }
      ]
    },
    {
      "cell_type": "markdown",
      "source": [
        "8. How is encapsulation achieved in Python?\n",
        "\n",
        "- Encapsulation in (OOP) refers to bundling data (attributes) and the methods that operate on that data into a single unit (i.e., a class).\n",
        "It also involves restricting direct access to some of the object’s internal data — protecting it from unintended changes.\n",
        "-Python achieves encapsulation through:Classes,access modifiers, and getter/setter methods.\n",
        "1. Using Underscores for Access Control\n",
        "a. Single Underscore _var (Protected)\n",
        "Signals that a variable or method is meant for internal use only.\n",
        "b. Double Underscore __var (Private)\n",
        "Python changes the variable name internally to _ClassName__var, making it harder to access from outside.\n",
        "2. Using Getter and Setter Methods\n",
        "Encapsulation is also maintained by exposing public methods to access or update private attributes.\n",
        "\n",
        "- Encapsulation is used for:\n",
        "\n",
        "Protect internal state from accidental modification.\n",
        "Control how important data is accessed and updated.\n",
        "Improve code maintainability and security."
      ],
      "metadata": {
        "id": "PAZAaUV_5wdO"
      }
    },
    {
      "cell_type": "code",
      "source": [
        "class Person:\n",
        "    def __init__(self, name, age):\n",
        "        self.name = name\n",
        "        self._age = age\n",
        "        self.__salary = 50000\n",
        "\n",
        "    def get_salary(self):\n",
        "        return self.__salary\n",
        "\n",
        "    def set_salary(self, amount):\n",
        "        if amount > 0:\n",
        "            self.__salary = amount\n",
        "\n",
        "p = Person(\"Mansi\", 24)\n",
        "print(p.name)\n",
        "print(p._age)\n",
        "\n",
        "print(p.get_salary())"
      ],
      "metadata": {
        "colab": {
          "base_uri": "https://localhost:8080/"
        },
        "id": "OyYRvbWQ7CMc",
        "outputId": "4519bd8a-0519-4b9f-fe5e-231f9bea30ac"
      },
      "execution_count": 7,
      "outputs": [
        {
          "output_type": "stream",
          "name": "stdout",
          "text": [
            "Mansi\n",
            "24\n",
            "50000\n"
          ]
        }
      ]
    },
    {
      "cell_type": "markdown",
      "source": [
        "9. What is a constructor in Python?\n",
        "\n",
        "- A constructor in Python is a special method that is automatically called when an object of a class is created. Its main purpose is to initialize the object’s attributes.\n",
        "In Python, the constructor method is called __init__().\n",
        "The __init__() method is called immediately after Person(\"Mansi\", 24) is executed.\n",
        "It assigns the passed values to the object's attributes (self.name and self.age).\n",
        "- Types of Constructors:\n",
        "Python only has one constructor (__init__)\n",
        "Default constructor: No arguments (other than self)\n",
        "Parameter constructor: Takes arguments to initialize attributes"
      ],
      "metadata": {
        "id": "X7DUSadx5_oD"
      }
    },
    {
      "cell_type": "code",
      "source": [
        "class Person:\n",
        "    def __init__(self, name, age):\n",
        "        self.name = name\n",
        "        self.age = age\n",
        "\n",
        "p = Person(\"Mansi\", 24)\n",
        "\n",
        "print(p.name)\n",
        "print(p.age)\n"
      ],
      "metadata": {
        "colab": {
          "base_uri": "https://localhost:8080/"
        },
        "id": "OWz-EHXX7es9",
        "outputId": "d0da1a09-dd70-4697-9eff-2258773fb7b7"
      },
      "execution_count": 8,
      "outputs": [
        {
          "output_type": "stream",
          "name": "stdout",
          "text": [
            "Mansi\n",
            "24\n"
          ]
        }
      ]
    },
    {
      "cell_type": "markdown",
      "source": [
        "10. What are class and static methods in Python?\n",
        "\n",
        "- In Python, class methods and static methods are special types of methods used to define behavior that is not tied to a specific instance of a class.\n",
        " 1. Class Method (@classmethod)\n",
        "Works with the class itself, not the object (instance).\n",
        "Takes cls as the first argument (refers to the class).\n",
        "Can access or modify class-level attributes.\n",
        "Defined using the @classmethod decorator.\n",
        " 2. Static Method (@staticmethod)\n",
        "Does not take self or cls as a first argument.\n",
        "Can't access or modify class or instance state.\n",
        "Behaves like a regular function placed inside a class for organizational purposes.\n",
        "Defined using the @staticmethod decorator.\n",
        "\n",
        "@classmethod is used when it is needed to access or modify class-level data.\n",
        "\n",
        " @staticmethod method is used when it is logically related to the class, but doesn’t need access to class or instance attributes.\n",
        "\n"
      ],
      "metadata": {
        "id": "0jrTHj-n6Abl"
      }
    },
    {
      "cell_type": "code",
      "source": [
        "class Employee:\n",
        "    raise_amount = 1.05\n",
        "\n",
        "    def __init__(self, name, salary):\n",
        "        self.name = name\n",
        "        self.salary = salary\n",
        "\n",
        "    @classmethod\n",
        "    def set_raise_amount(cls, amount):\n",
        "        cls.raise_amount = amount\n",
        "\n",
        "Employee.set_raise_amount(1.10)\n",
        "print(Employee.raise_amount)\n"
      ],
      "metadata": {
        "colab": {
          "base_uri": "https://localhost:8080/"
        },
        "id": "CBq6Rij-73GC",
        "outputId": "261c2346-4e5a-4b4b-eda0-8fd8f359ce32"
      },
      "execution_count": null,
      "outputs": [
        {
          "output_type": "stream",
          "name": "stdout",
          "text": [
            "1.1\n"
          ]
        }
      ]
    },
    {
      "cell_type": "code",
      "source": [
        "class Math:\n",
        "    @staticmethod\n",
        "    def add(x, y):\n",
        "        return x + y\n",
        "\n",
        "print(Math.add(3, 5))\n"
      ],
      "metadata": {
        "colab": {
          "base_uri": "https://localhost:8080/"
        },
        "id": "9PKVDb1w73uf",
        "outputId": "e0891312-46f7-47ec-9be0-1f67878c8570"
      },
      "execution_count": null,
      "outputs": [
        {
          "output_type": "stream",
          "name": "stdout",
          "text": [
            "8\n"
          ]
        }
      ]
    },
    {
      "cell_type": "markdown",
      "source": [
        "11. What is method overloading in Python?\n",
        "\n",
        "- Method overloading refers to the ability to define multiple methods with the same name but different parameters (number or type).\n",
        "Python functions do not support multiple signatures. If you define a method with the same name multiple times, the latest one overrides the previous ones.\n",
        " Method Overloading in Python\n",
        "It used default arguments, *args, or manual type checking.\n",
        "\n",
        "Default parameters\n",
        "*args / **kwargs\n",
        "Type checking (if needed)"
      ],
      "metadata": {
        "id": "smHTRg6d5xJ_"
      }
    },
    {
      "cell_type": "code",
      "source": [
        "class Calculator:\n",
        "    def add(self, *args):\n",
        "        return sum(args)\n",
        "\n",
        "c = Calculator()\n",
        "print(c.add(2))\n",
        "print(c.add(2, 3))\n",
        "print(c.add(1, 2, 3, 4))\n"
      ],
      "metadata": {
        "colab": {
          "base_uri": "https://localhost:8080/"
        },
        "id": "7hdKdD_F8uOx",
        "outputId": "0d207119-20a8-4bfc-924e-18db1e300a21"
      },
      "execution_count": null,
      "outputs": [
        {
          "output_type": "stream",
          "name": "stdout",
          "text": [
            "2\n",
            "5\n",
            "10\n"
          ]
        }
      ]
    },
    {
      "cell_type": "markdown",
      "source": [
        "12. What is method overriding in OOP?\n",
        "- Method overriding in (OOP) is a feature that allows a subclass (child class) to provide a specific implementation of a method that is already defined in its superclass (parent class).\n",
        "The method in the subclass must have the same name, return type, and parameters as the one in the parent class.\n",
        "It is used to achieve runtime polymorphism.\n",
        "The overridden method in the subclass is called instead of the one in the parent class when using an object of the subclass.\n"
      ],
      "metadata": {
        "id": "hI8l0MtP6UUv"
      }
    },
    {
      "cell_type": "code",
      "source": [
        "class Animal:\n",
        "    def sound(self):\n",
        "        print(\"Animal makes a sound\")\n",
        "\n",
        "class Dog(Animal):\n",
        "    def sound(self):\n",
        "        print(\"Dog barks\")\n",
        "\n",
        "animal = Animal()\n",
        "dog = Dog()\n",
        "\n",
        "animal.sound()\n",
        "dog.sound()\n"
      ],
      "metadata": {
        "colab": {
          "base_uri": "https://localhost:8080/"
        },
        "id": "2ynHY2228UDH",
        "outputId": "74f8cf07-0912-4d54-8286-6e5831287282"
      },
      "execution_count": null,
      "outputs": [
        {
          "output_type": "stream",
          "name": "stdout",
          "text": [
            "Animal makes a sound\n",
            "Dog barks\n"
          ]
        }
      ]
    },
    {
      "cell_type": "markdown",
      "source": [
        "13. What is a property decorator in Python?\n",
        "- The @property decorator in Python is used to define a method as a \"getter\"—which means it allows a method to be accessed like an attribute, without using parentheses.\n",
        "It Controls access to private variables.\n",
        "It Add logic to getting or setting a value without changing how the attribute is accessed.\n",
        "It maintain a clean and Pythonic interface.\n",
        "\n",
        "@property: makes a method behave like an attribute.\n",
        "\n",
        "@<property>.setter: defines how the value can be updated.\n",
        "\n",
        "@<property>.deleter: defines what happens when the property is deleted."
      ],
      "metadata": {
        "id": "LZ-NopQu6Uvg"
      }
    },
    {
      "cell_type": "code",
      "source": [
        "class Person:\n",
        "    def __init__(self, name):\n",
        "        self._name = name\n",
        "\n",
        "    @property\n",
        "    def name(self):\n",
        "        return self._name\n",
        "\n",
        "p = Person(\"Mansi\")\n",
        "print(p.name)\n"
      ],
      "metadata": {
        "colab": {
          "base_uri": "https://localhost:8080/"
        },
        "id": "fdo9setI8-NA",
        "outputId": "c94014b5-6b14-4266-ffc9-f93446f80ccd"
      },
      "execution_count": 9,
      "outputs": [
        {
          "output_type": "stream",
          "name": "stdout",
          "text": [
            "Mansi\n"
          ]
        }
      ]
    },
    {
      "cell_type": "markdown",
      "source": [
        "14. Why is polymorphism important in OOP?\n",
        "\n",
        "- Polymorphism in (OOP) because it enables flexibility, scalability, and clean code. It allows objects of different classes to be treated through a common interface, even if they behave differently.\n",
        "It is important as it allows:\n",
        "Code Reusability\n",
        "\n",
        "Write generic code that works with different object types.\n",
        "\n",
        "Example: A single function can operate on multiple classes.\n",
        "\n",
        "Extensibility\n",
        "\n",
        "New classes can be added without changing existing code.\n",
        "\n",
        "This follows the Open/Closed Principle — open for extension, closed for modification.\n",
        "\n",
        "Simplifies Code\n",
        "\n",
        "Cleaner and more readable code.\n",
        "\n",
        "Improves Maintainability\n",
        "\n",
        "Fewer conditionals (if, else) when handling multiple object types.\n",
        "\n",
        "Easier to update or fix bugs in one place.\n"
      ],
      "metadata": {
        "id": "CCjomGG86VLh"
      }
    },
    {
      "cell_type": "code",
      "source": [
        "class Animal:\n",
        "    def speak(self):\n",
        "        pass\n",
        "\n",
        "class Dog(Animal):\n",
        "    def speak(self):\n",
        "        return \"Bark\"\n",
        "\n",
        "class Cat(Animal):\n",
        "    def speak(self):\n",
        "        return \"Meow\"\n",
        "\n",
        "def animal_sound(animal):\n",
        "    print(animal.speak())\n",
        "animal_sound(Dog())\n",
        "animal_sound(Cat())\n"
      ],
      "metadata": {
        "colab": {
          "base_uri": "https://localhost:8080/"
        },
        "id": "4GR7hKcN9T1K",
        "outputId": "025982a6-bb72-437f-a643-6ab68d9b5e75"
      },
      "execution_count": null,
      "outputs": [
        {
          "output_type": "stream",
          "name": "stdout",
          "text": [
            "Bark\n",
            "Meow\n"
          ]
        }
      ]
    },
    {
      "cell_type": "markdown",
      "source": [
        "15. What is an abstract class in Python?\n",
        "-  An abstract class in Python is a class that cannot be instantiated directly. It is meant to be subclassed by other classes. It defines a common interface (abstract methods) that must be implemented by its subclasses. The purpose of abstract classes is to provide a template for other classes to follow.\n",
        "\n",
        "To create an abstract class, Python uses the abc module.\n",
        "\n",
        "Abstract classes can contain abstract methods, which are methods that have no implementation in the abstract class itself and must be implemented in subclasses.\n",
        "\n",
        "An abstract class cannot be created directly.\n",
        "\n",
        "A class becomes abstract when it contains at least one abstract method.\n",
        "Abstract class are used:\n",
        "To define a common interface for all subclasses, ensuring that they implement certain methods.\n",
        "\n",
        "To avoid redundant code by providing shared functionality in a parent class, while allowing subclasses to implement specific behaviors."
      ],
      "metadata": {
        "id": "UXy8GGqi6pLQ"
      }
    },
    {
      "cell_type": "code",
      "source": [
        "from abc import ABC, abstractmethod\n",
        "\n",
        "class Animal(ABC):\n",
        "\n",
        "    @abstractmethod\n",
        "    def sound(self):\n",
        "        pass\n",
        "\n",
        "    @abstractmethod\n",
        "    def move(self):\n",
        "        pass\n",
        "class Dog(Animal):\n",
        "    def sound(self):\n",
        "        return \"Barks\"\n",
        "\n",
        "    def move(self):\n",
        "        return \"Runs\"\n",
        "class Bird(Animal):\n",
        "    def sound(self):\n",
        "        return \"Chirps\"\n",
        "\n",
        "    def move(self):\n",
        "        return \"Flies\"\n",
        "\n",
        "dog = Dog()\n",
        "print(dog.sound())\n",
        "print(dog.move())\n",
        "\n",
        "bird = Bird()\n",
        "print(bird.sound())\n",
        "print(bird.move())\n"
      ],
      "metadata": {
        "colab": {
          "base_uri": "https://localhost:8080/"
        },
        "id": "HNkrgOcY9m0P",
        "outputId": "b82008b7-aa98-471c-c0b3-b2790e64302c"
      },
      "execution_count": null,
      "outputs": [
        {
          "output_type": "stream",
          "name": "stdout",
          "text": [
            "Barks\n",
            "Runs\n",
            "Chirps\n",
            "Flies\n"
          ]
        }
      ]
    },
    {
      "cell_type": "markdown",
      "source": [
        "16. What are the advantages of OOP?\n",
        "\n",
        "- Object-Oriented Programming (OOP) offers several key benefits that help in creating modular, reusable, and maintainable code. Below are the advantages of using OOP:\n",
        "\n",
        " 1. Modularity (Code Reusability)\n",
        "OOP allows you to break down the program into smaller, more manageable pieces (objects and classes). These objects can be developed, tested, and debugged independently.\n",
        "Once a class is created, it can be reused in other parts of the program or in different projects.\n",
        "\n",
        "2. Encapsulation (Data Hiding)\n",
        "Encapsulation restricts direct access to an object's internal state and ensures that data is only modified in controlled ways.\n",
        "This protects the object from unintended changes and helps in enforcing proper usage of the data.\n",
        " 3. Inheritance (Code Reusability and Hierarchy)\n",
        "Inheritance allows one class (child class) to inherit attributes and methods from another class (parent class), enabling code reuse and the creation of a class hierarchy.\n",
        "Inheritance reduces redundancy by allowing child classes to reuse parent class code and extend or modify it when needed.\n",
        " 4. Polymorphism (Flexibility and Extensibility)\n",
        "Polymorphism allows methods to work with objects of different types, providing a flexible interface for different classes.\n",
        "It helps achieve extensibility because new classes can be added without changing existing code.\n",
        "5. Maintainability and Scalability\n",
        "OOP promotes code organization by encapsulating related data and behaviors together. This makes it easier to maintain, update, and scale applications over time\n",
        "Changes in one class typically don't affect other classes if the class interfaces remain consistent.\n",
        "6. Better Collaboration\n",
        "OOP encourages collaboration in teams because different developers can work on different classes without interfering with one another.\n",
        "As long as the class interfaces (methods) are well-defined, multiple people can build different components in parallel.\n",
        " 7. Easier Debugging and Testing\n",
        "Since OOP promotes modular design, it is easier to isolate bugs and issues within specific classes or objects.\n",
        "Unit testing becomes simpler because individual objects can be tested separately.                |\n",
        "\n",
        "OOP helps build robust, scalable, and maintainable systems. It encourages clean architecture through the use of objects, classes, and principles like encapsulation, inheritance, and polymorphism.\n",
        "\n"
      ],
      "metadata": {
        "id": "k5FBE3yU6uqt"
      }
    },
    {
      "cell_type": "markdown",
      "source": [
        "17. What is the difference between a class variable and an instance variable?\n",
        "- In Python, class variables and instance variables are both used to store data, but they differ in how and where they are stored and accessed.\n",
        "-  Class Variables:\n",
        "Belong to the class itself, not to any specific instance of the class.\n",
        "Shared by all instances of the class.\n",
        "Defined outside any method but inside the class definition.\n",
        "- Instance Variables:\n",
        "Belong to a specific instance of the class.\n",
        "Each instance has its own copy of the variable.\n",
        "Defined inside the __init__ method or other instance methods."
      ],
      "metadata": {
        "id": "7ZxwDdJS60Yv"
      }
    },
    {
      "cell_type": "code",
      "source": [
        "class Car:\n",
        "    wheels = 4\n",
        "\n",
        "    def __init__(self, make, model):\n",
        "        self.make = make\n",
        "        self.model = model\n",
        "\n",
        "car1 = Car(\"mercedes\", \"benz\")\n",
        "car2 = Car(\"Honda\", \"Civic\")\n",
        "\n",
        "print(car1.wheels)\n",
        "print(car2.wheels)\n",
        "\n",
        "car1.wheels = 3\n",
        "print(car1.wheels)\n",
        "print(car2.wheels)\n"
      ],
      "metadata": {
        "colab": {
          "base_uri": "https://localhost:8080/"
        },
        "id": "N_xrMGIt1y4l",
        "outputId": "2c7cc790-258f-46df-86cd-375cc2e78010"
      },
      "execution_count": 10,
      "outputs": [
        {
          "output_type": "stream",
          "name": "stdout",
          "text": [
            "4\n",
            "4\n",
            "3\n",
            "4\n"
          ]
        }
      ]
    },
    {
      "cell_type": "code",
      "source": [
        "class Car:\n",
        "    def __init__(self, make, model):\n",
        "        self.make = make\n",
        "        self.model = model\n",
        "\n",
        "car1 = Car(\"Mercedes\", \"benz\")\n",
        "car2 = Car(\"Honda\", \"Civic\")\n",
        "\n",
        "print(car1.make)\n",
        "print(car2.make)\n"
      ],
      "metadata": {
        "colab": {
          "base_uri": "https://localhost:8080/"
        },
        "id": "prJEowaK2Dda",
        "outputId": "e496509f-9b20-464d-c512-f3c79bc40c61"
      },
      "execution_count": 11,
      "outputs": [
        {
          "output_type": "stream",
          "name": "stdout",
          "text": [
            "Mercedes\n",
            "Honda\n"
          ]
        }
      ]
    },
    {
      "cell_type": "markdown",
      "source": [
        "18. What is multiple inheritance in Python?\n",
        "- Multiple inheritance is a feature in Python where a class can inherit from more than one parent class. This allows the child class to access attributes and methods from all its parent classes.\n",
        "Flexibility: Child class can combine features from multiple classes.\n",
        "MRO (Method Resolution Order): Python uses C3 linearization to decide the order in which parent classes are searched.\n",
        "Use ClassName.__mro__ or help(ClassName) to see the MRO.\n"
      ],
      "metadata": {
        "id": "iTzip0g166HW"
      }
    },
    {
      "cell_type": "code",
      "source": [
        "class Animal:\n",
        "    def speak(self):\n",
        "        print(\"Animal makes a sound\")\n",
        "\n",
        "class Mammal:\n",
        "    def walk(self):\n",
        "        print(\"Mammal can walk\")\n",
        "\n",
        "class Dog(Animal, Mammal):\n",
        "    def bark(self):\n",
        "        print(\"Dog barks\")\n",
        "\n",
        "dog = Dog()\n",
        "\n",
        "dog.speak()\n",
        "dog.walk()\n",
        "dog.bark()\n"
      ],
      "metadata": {
        "colab": {
          "base_uri": "https://localhost:8080/"
        },
        "id": "7GyrOpFQ1MwV",
        "outputId": "62bd8930-57a6-4ef4-f16b-a6409ab7a594"
      },
      "execution_count": null,
      "outputs": [
        {
          "output_type": "stream",
          "name": "stdout",
          "text": [
            "Animal makes a sound\n",
            "Mammal can walk\n",
            "Dog barks\n"
          ]
        }
      ]
    },
    {
      "cell_type": "markdown",
      "source": [
        "19. Explain the purpose of ‘’__str__’ and ‘__repr__’ ‘ methods in Python?\n",
        "- In Python, __str__ and __repr__ are special methods used to define how an object is represented as a string. They serve different purposes for displaying objects.\n",
        "- __str__ – User-friendly string representation\n",
        "Called by functions like print() and str().\n",
        "Meant to return a readable, informal string for end users.\n",
        "Example use: Showing a nice message in logs.\n",
        "- __repr__ – Developer-friendly (official) representation\n",
        "Called by repr(), and by default in the Python shell or debugger.\n",
        "Meant to return a precise and unambiguous string (ideally, code-like).\n",
        "Should return a string that could recreate the object, if possible.\n"
      ],
      "metadata": {
        "id": "K0n1Lm0966kt"
      }
    },
    {
      "cell_type": "code",
      "source": [
        "class Person:\n",
        "    def __init__(self, name):\n",
        "        self.name = name\n",
        "\n",
        "    def __str__(self):\n",
        "        return f\"Person named {self.name}\"\n",
        "\n",
        "p = Person(\"Mansi\")\n",
        "print(str(p))\n"
      ],
      "metadata": {
        "colab": {
          "base_uri": "https://localhost:8080/"
        },
        "id": "AnHxK8mk0aTQ",
        "outputId": "01606f29-3888-4aaf-9a95-69b16c3e3bea"
      },
      "execution_count": null,
      "outputs": [
        {
          "output_type": "stream",
          "name": "stdout",
          "text": [
            "Person named Mansi\n"
          ]
        }
      ]
    },
    {
      "cell_type": "code",
      "source": [
        "class Person:\n",
        "    def __init__(self, name):\n",
        "        self.name = name\n",
        "\n",
        "    def __repr__(self):\n",
        "        return f\"Person('{self.name}')\"\n",
        "\n",
        "p = Person(\"Mansi\")\n",
        "print(repr(p))\n"
      ],
      "metadata": {
        "colab": {
          "base_uri": "https://localhost:8080/"
        },
        "id": "co0ZpDIi0lbo",
        "outputId": "5ab28c79-7b72-49a2-b8af-70c8b2042e60"
      },
      "execution_count": null,
      "outputs": [
        {
          "output_type": "stream",
          "name": "stdout",
          "text": [
            "Person('Mansi')\n"
          ]
        }
      ]
    },
    {
      "cell_type": "markdown",
      "source": [
        "20. What is the significance of the ‘super()’ function in Python?\n",
        "- The super() function in Python is used to call a method from a parent (or superclass) inside a child (subclass) method. It’s especially useful in inheritance to ensure that the base class initialization or behavior is preserved and extended, not overwritten.\n",
        "- Significance of super():\n",
        "Access parent class methods without explicitly naming the parent.\n",
        "Supports multiple inheritance cleanly.\n",
        "Promotes code reusability and maintainability.\n",
        "Ensures proper constructor chaining in inheritance hierarchies."
      ],
      "metadata": {
        "id": "rrNmrrP-67I4"
      }
    },
    {
      "cell_type": "code",
      "source": [
        "class Animal:\n",
        "    def __init__(self, name):\n",
        "        self.name = name\n",
        "        print(f\"{self.name} is an animal\")\n",
        "\n",
        "class Dog(Animal):\n",
        "    def __init__(self, name, breed):\n",
        "        super().__init__(name)\n",
        "        self.breed = breed\n",
        "        print(f\"{self.name} is a {self.breed}\")\n",
        "\n",
        "dog = Dog(\"Rocky\", \"Labrador\")\n"
      ],
      "metadata": {
        "colab": {
          "base_uri": "https://localhost:8080/"
        },
        "id": "iySCTyFFz4_z",
        "outputId": "e9ee1e89-e162-4bc1-a3b1-aa13dd4cf208"
      },
      "execution_count": null,
      "outputs": [
        {
          "output_type": "stream",
          "name": "stdout",
          "text": [
            "Rocky is an animal\n",
            "Rocky is a Labrador\n"
          ]
        }
      ]
    },
    {
      "cell_type": "markdown",
      "source": [
        "21. What is the significance of the __del__ method in Python?\n",
        "- The __del__ method in Python is a destructor method that is automatically called when an object is about to be destroyed (i.e., when its reference count drops to zero).\n",
        " Significance of __del__:\n",
        "It allows to define cleanup behavior, such as:\n",
        "Releasing external resources (files, network connections, memory, etc.)\n",
        "Logging or printing a message upon object deletion\n",
        "Ensuring graceful shutdown of an object’s functionality\n"
      ],
      "metadata": {
        "id": "e_8Qbsge7Lw6"
      }
    },
    {
      "cell_type": "code",
      "source": [
        "class Demo:\n",
        "    def __init__(self):\n",
        "        print(\"Object created\")\n",
        "\n",
        "    def __del__(self):\n",
        "        print(\"Object destroyed\")\n",
        "\n",
        "obj = Demo()\n",
        "del obj\n"
      ],
      "metadata": {
        "colab": {
          "base_uri": "https://localhost:8080/"
        },
        "id": "yp4hsTChxHc0",
        "outputId": "dc95af2e-4e7a-4557-85ad-ef0c920db48c"
      },
      "execution_count": null,
      "outputs": [
        {
          "output_type": "stream",
          "name": "stdout",
          "text": [
            "Object created\n",
            "Object destroyed\n"
          ]
        }
      ]
    },
    {
      "cell_type": "markdown",
      "source": [
        "22. What is the difference between @staticmethod and @classmethod in Python?\n",
        "- In Python, both @staticmethod and @classmethod are decorators used to define methods inside a class that are not instance methods, but they differ in how they access class data.\n",
        "@staticmethod\n",
        "Does not take self or cls as the first parameter.\n",
        "Cannot access or modify class or instance state.\n",
        "Behaves like a plain function, just lives inside a class for organization.\n",
        " @classmethod\n",
        "Takes cls as the first parameter,  referring to the class (not an instance).\n",
        "Can access or modify class variables.\n",
        "Often used for factory methods.\n",
        "\n"
      ],
      "metadata": {
        "id": "Ow396NCd7MSg"
      }
    },
    {
      "cell_type": "code",
      "source": [
        "#static method\n",
        "class Math:\n",
        "    @staticmethod\n",
        "    def add(x, y):\n",
        "        return x + y\n",
        "\n",
        "print(Math.add(2, 3))\n"
      ],
      "metadata": {
        "colab": {
          "base_uri": "https://localhost:8080/"
        },
        "id": "1lpYo7kVwOXk",
        "outputId": "e3f41418-fe2a-41ca-a717-16f8e15d318a"
      },
      "execution_count": 12,
      "outputs": [
        {
          "output_type": "stream",
          "name": "stdout",
          "text": [
            "5\n"
          ]
        }
      ]
    },
    {
      "cell_type": "code",
      "source": [
        "class Person:\n",
        "    species = \"Human\"\n",
        "\n",
        "    def __init__(self, name):\n",
        "        self.name = name\n",
        "\n",
        "    @classmethod\n",
        "    def from_string(cls, name_str):\n",
        "        return cls(name_str)\n",
        "\n",
        "    @classmethod\n",
        "    def get_species(cls):\n",
        "        return cls.species\n",
        "p = Person.from_string(\"Mansi\")\n",
        "print(p.name)\n",
        "print(Person.get_species())\n"
      ],
      "metadata": {
        "colab": {
          "base_uri": "https://localhost:8080/"
        },
        "id": "AKe-NRJ0wT-O",
        "outputId": "366637f8-db18-4d34-8ef6-26471385b4e6"
      },
      "execution_count": null,
      "outputs": [
        {
          "output_type": "stream",
          "name": "stdout",
          "text": [
            "Mansi\n",
            "Human\n"
          ]
        }
      ]
    },
    {
      "cell_type": "markdown",
      "source": [
        "23. How does polymorphism work in Python with inheritance?\n",
        "- Polymorphism means \"many forms\". In OOP, it allows the same method name to behave differently depending on the object that calls it.\n",
        "Method Overriding: Subclasses override the parent method.\n",
        "Common Interface: The same method (speak()) on different types of animals.\n",
        "Dynamic Behavior: Python decides at runtime which method to execute (based on the object's class)."
      ],
      "metadata": {
        "id": "fbOawHtHoT5I"
      }
    },
    {
      "cell_type": "code",
      "source": [
        "class Animal:\n",
        "    def speak(self):\n",
        "        print(\"The animal makes a sound\")\n",
        "\n",
        "class Dog(Animal):\n",
        "    def speak(self):\n",
        "        print(\"The dog barks\")\n",
        "\n",
        "class Cat(Animal):\n",
        "    def speak(self):\n",
        "        print(\"The cat meows\")\n",
        "\n",
        "def make_animal_speak(animal):\n",
        "    animal.speak()\n",
        "a = Animal()\n",
        "d = Dog()\n",
        "c = Cat()\n",
        "\n",
        "make_animal_speak(a)\n",
        "make_animal_speak(d)\n",
        "make_animal_speak(c)\n"
      ],
      "metadata": {
        "colab": {
          "base_uri": "https://localhost:8080/"
        },
        "id": "7AIHssBZuj7E",
        "outputId": "9b633637-5b0c-4bcc-bd1d-7386f5980d3b"
      },
      "execution_count": null,
      "outputs": [
        {
          "output_type": "stream",
          "name": "stdout",
          "text": [
            "The animal makes a sound\n",
            "The dog barks\n",
            "The cat meows\n"
          ]
        }
      ]
    },
    {
      "cell_type": "markdown",
      "source": [
        "24. What is method chaining in Python OOP?\n",
        "- Method chaining in Python OOP is where multiple methods are called on the same object in a single line, one after the other. Each method returns the object itself (usually self), allowing the next method to be called on it.\n",
        "Methods must return self.\n"
      ],
      "metadata": {
        "id": "CmpiNxh07bB5"
      }
    },
    {
      "cell_type": "code",
      "source": [
        "class Person:\n",
        "    def __init__(self, name):\n",
        "        self.name = name\n",
        "        self.age = 0\n",
        "\n",
        "    def set_age(self, age):\n",
        "        self.age = age\n",
        "        return self\n",
        "\n",
        "    def greet(self):\n",
        "        print(f\"Hi, I'm {self.name} and I'm {self.age} years old.\")\n",
        "        return self\n",
        "\n",
        "p = Person(\"Mansi\")\n",
        "p.set_age(24).greet()\n"
      ],
      "metadata": {
        "colab": {
          "base_uri": "https://localhost:8080/"
        },
        "id": "0PYCfJJRtrl-",
        "outputId": "e9a53393-eca2-4adb-96d5-5f45b2173a5f"
      },
      "execution_count": null,
      "outputs": [
        {
          "output_type": "stream",
          "name": "stdout",
          "text": [
            "Hi, I'm Mansi and I'm 24 years old.\n"
          ]
        },
        {
          "output_type": "execute_result",
          "data": {
            "text/plain": [
              "<__main__.Person at 0x7d8a76a71110>"
            ]
          },
          "metadata": {},
          "execution_count": 10
        }
      ]
    },
    {
      "cell_type": "markdown",
      "source": [
        "25. What is the purpose of the __call__ method in Python?\n",
        "- The __call__ method in python allow an instance of a class to be called like a function.\n",
        "The purpose of it is:\n",
        "when a __call__ is defined in a class the objects can be used as if they were functions. This helps when a object is given callable behaviour to configure and reuse logic in flexible way.\n",
        "The use cases can be:\n",
        "Function-like objects (also known as functors)\n",
        "Simplifying repeated logic with state\n",
        "Implementing decorators or handlers with internal configuration\n",
        "An example of __call__ is below:\n"
      ],
      "metadata": {
        "id": "srsSzz_n7bgA"
      }
    },
    {
      "cell_type": "code",
      "source": [
        "class Greeter:\n",
        "    def __init__(self, greeting):\n",
        "        self.greeting = greeting\n",
        "\n",
        "    def __call__(self, name):\n",
        "        return f\"{self.greeting}, {name}!\"\n",
        "hello = Greeter(\"Hello\")\n",
        "print(hello(\"Mansi\"))\n"
      ],
      "metadata": {
        "colab": {
          "base_uri": "https://localhost:8080/"
        },
        "id": "MUNFtzv1Di-o",
        "outputId": "b1511a01-a585-44dd-d153-ccd68e02a875"
      },
      "execution_count": null,
      "outputs": [
        {
          "output_type": "stream",
          "name": "stdout",
          "text": [
            "Hello, Mansi!\n"
          ]
        }
      ]
    },
    {
      "cell_type": "markdown",
      "source": [
        "# Practical Questions"
      ],
      "metadata": {
        "id": "e6Iq1TayoT13"
      }
    },
    {
      "cell_type": "markdown",
      "source": [
        "1. 1. Create a parent class Animal with a method speak() that prints a generic message. Create a child class Dog that overrides the speak() method to print \"Bark!\".\n"
      ],
      "metadata": {
        "id": "aX5HioRawHhf"
      }
    },
    {
      "cell_type": "code",
      "source": [
        "#parent class\n",
        "class Animal:\n",
        "    def speak(self):\n",
        "        print(\"Generic message\")\n",
        "\n",
        "#child class\n",
        "class Dog(Animal):\n",
        "    def speak(self):\n",
        "        print(\"Bark!\")"
      ],
      "metadata": {
        "id": "W4KLugtfwFhG"
      },
      "execution_count": null,
      "outputs": []
    },
    {
      "cell_type": "code",
      "source": [
        "generic_animal=Animal()\n",
        "generic_animal.speak()"
      ],
      "metadata": {
        "colab": {
          "base_uri": "https://localhost:8080/"
        },
        "id": "jXc8SaM-wVwh",
        "outputId": "bb005c5a-d7a5-4182-88b7-e9bee310035a"
      },
      "execution_count": null,
      "outputs": [
        {
          "output_type": "stream",
          "name": "stdout",
          "text": [
            "Generic message\n"
          ]
        }
      ]
    },
    {
      "cell_type": "code",
      "source": [
        "my_dog=Dog()\n",
        "my_dog.speak()"
      ],
      "metadata": {
        "colab": {
          "base_uri": "https://localhost:8080/"
        },
        "id": "w3v2p8ubwbfT",
        "outputId": "631eb19c-1c4f-4389-d5f9-eb1383fdef90"
      },
      "execution_count": null,
      "outputs": [
        {
          "output_type": "stream",
          "name": "stdout",
          "text": [
            "Bark!\n"
          ]
        }
      ]
    },
    {
      "cell_type": "markdown",
      "source": [
        "2. . Write a program to create an abstract class Shape with a method area(). Derive classes Circle and Rectangle\n",
        "from it and implement the area() method in both."
      ],
      "metadata": {
        "id": "Wv5bpkyawto6"
      }
    },
    {
      "cell_type": "code",
      "source": [
        "#abstract base class\n",
        "from abc import ABC, abstractmethod\n",
        "\n",
        "class Shape(ABC):\n",
        "    @abstractmethod\n",
        "    def area(self):\n",
        "        pass\n",
        "\n",
        "#Derived class:circle\n",
        "class Circle(Shape):\n",
        "    def __init__(self,radius):\n",
        "        self.radius=radius\n",
        "    def area(self):\n",
        "        return 3.14*self.radius**2\n",
        "\n",
        "#Derived class:rectangle\n",
        "class Rectangle(Shape):\n",
        "    def __init__(self,length,width):\n",
        "        self.length=length\n",
        "        self.width=width\n",
        "    def area(self):\n",
        "        return self.length*self.width\n",
        "\n",
        "circle=Circle(6)\n",
        "print(circle.area())\n",
        "\n",
        "rectangle=Rectangle(7,8)\n",
        "print(rectangle.area())"
      ],
      "metadata": {
        "colab": {
          "base_uri": "https://localhost:8080/"
        },
        "id": "hlSAJEI-3Ock",
        "outputId": "493337e4-b3e3-47fb-ea6a-37666eafc9e1"
      },
      "execution_count": null,
      "outputs": [
        {
          "output_type": "stream",
          "name": "stdout",
          "text": [
            "113.04\n",
            "56\n"
          ]
        }
      ]
    },
    {
      "cell_type": "markdown",
      "source": [
        "3. Implement a multi-level inheritance scenario where a class Vehicle has an attribute type. Derive a class Car\n",
        "and further derive a class ElectricCar that adds a battery attribute?"
      ],
      "metadata": {
        "id": "4sXqLH7Y6w5-"
      }
    },
    {
      "cell_type": "code",
      "source": [
        "# Base class\n",
        "class Vehicle:\n",
        "    def __init__(self, vehicle_type):\n",
        "        self.type = vehicle_type\n",
        "\n",
        "# First derived class\n",
        "class Car(Vehicle):\n",
        "    def __init__(self, vehicle_type, brand):\n",
        "        super().__init__(vehicle_type)\n",
        "        self.brand = brand\n",
        "\n",
        "# Second derived class (multi-level inheritance)\n",
        "class ElectricCar(Car):\n",
        "    def __init__(self, vehicle_type, brand, battery_capacity):\n",
        "        super().__init__(vehicle_type, brand)\n",
        "        self.battery = battery_capacity\n",
        "\n",
        "    def display_info(self):\n",
        "        print(f\"Vehicle Type: {self.type}\")\n",
        "        print(f\"Brand: {self.brand}\")\n",
        "        print(f\"Battery Capacity: {self.battery} kWh\")\n",
        "\n",
        "my_electric_car = ElectricCar(\"Electric\", \"BMW\", 100)\n",
        "my_electric_car.display_info()\n"
      ],
      "metadata": {
        "colab": {
          "base_uri": "https://localhost:8080/"
        },
        "id": "jK23ZfRa68Qj",
        "outputId": "ea11bf56-dc28-4d07-d0ae-2018a6053811"
      },
      "execution_count": null,
      "outputs": [
        {
          "output_type": "stream",
          "name": "stdout",
          "text": [
            "Vehicle Type: Electric\n",
            "Brand: BMW\n",
            "Battery Capacity: 100 kWh\n"
          ]
        }
      ]
    },
    {
      "cell_type": "markdown",
      "source": [
        "4. Demonstrate polymorphism by creating a base class Bird with a method fly(). Create two derived classes\n",
        "Sparrow and Penguin that override the fly() method.\n"
      ],
      "metadata": {
        "id": "lNZkQRkl691-"
      }
    },
    {
      "cell_type": "code",
      "source": [
        "# Base class\n",
        "class Bird:\n",
        "    def fly(self):\n",
        "        print(\"Bird is flying\")\n",
        "\n",
        "class Sparrow(Bird):\n",
        "    def fly(self):\n",
        "        print(\"Sparrow flies high in the sky\")\n",
        "\n",
        "class Penguin(Bird):\n",
        "    def fly(self):\n",
        "        print(\"Penguins cannot fly, they swim\")\n",
        "\n",
        "def make_bird_fly(bird):\n",
        "    bird.fly()\n",
        "\n",
        "sparrow = Sparrow()\n",
        "penguin = Penguin()\n",
        "\n",
        "make_bird_fly(sparrow)\n",
        "make_bird_fly(penguin)\n"
      ],
      "metadata": {
        "colab": {
          "base_uri": "https://localhost:8080/"
        },
        "id": "T8aTWips7FyS",
        "outputId": "c647dac8-beaa-46bb-c429-ba183942c709"
      },
      "execution_count": 13,
      "outputs": [
        {
          "output_type": "stream",
          "name": "stdout",
          "text": [
            "Sparrow flies high in the sky\n",
            "Penguins cannot fly, they swim\n"
          ]
        }
      ]
    },
    {
      "cell_type": "markdown",
      "source": [
        "5. Write a program to demonstrate encapsulation by creating a class BankAccount with private attributes\n",
        "balance and methods to deposit, withdraw, and check balance."
      ],
      "metadata": {
        "id": "TSBTEkGF7D9k"
      }
    },
    {
      "cell_type": "code",
      "source": [
        "class BankAccount:\n",
        "    def __init__(self, initial_balance=0):\n",
        "        self.__balance = initial_balance\n",
        "\n",
        "    def deposit(self, amount):\n",
        "        if amount > 0:\n",
        "            self.__balance += amount\n",
        "            print(f\"Deposited: ${amount}\")\n",
        "        else:\n",
        "            print(\"Deposit amount must be positive\")\n",
        "\n",
        "    def withdraw(self, amount):\n",
        "        if 0 < amount <= self.__balance:\n",
        "            self.__balance -= amount\n",
        "            print(f\"Withdrawn: ${amount}\")\n",
        "        else:\n",
        "            print(\"Invalid withdrawal amount or insufficient funds\")\n",
        "\n",
        "    def check_balance(self):\n",
        "        print(f\"Current Balance: ${self.__balance}\")\n",
        "\n",
        "account = BankAccount(100)\n",
        "account.check_balance()\n",
        "account.deposit(50)\n",
        "account.withdraw(30)\n",
        "account.check_balance()\n",
        "\n"
      ],
      "metadata": {
        "colab": {
          "base_uri": "https://localhost:8080/"
        },
        "id": "zwMWwPs-7LpU",
        "outputId": "4fc9fe36-4d4e-41b9-a025-3e5aac02dff2"
      },
      "execution_count": null,
      "outputs": [
        {
          "output_type": "stream",
          "name": "stdout",
          "text": [
            "Current Balance: $100\n",
            "Deposited: $50\n",
            "Withdrawn: $30\n",
            "Current Balance: $120\n"
          ]
        }
      ]
    },
    {
      "cell_type": "markdown",
      "source": [
        "6. Demonstrate runtime polymorphism using a method play() in a base class Instrument. Derive classes Guitar\n",
        "and Piano that implement their own version of play()."
      ],
      "metadata": {
        "id": "eAbqXKkU7MRy"
      }
    },
    {
      "cell_type": "code",
      "source": [
        "class Instrument:\n",
        "    def play(self):\n",
        "        print(\"Playing an instrument\")\n",
        "class Guitar(Instrument):\n",
        "    def play(self):\n",
        "        print(\"Strumming the guitar\")\n",
        "class Piano(Instrument):\n",
        "    def play(self):\n",
        "        print(\"Playing the piano\")\n",
        "\n",
        "def perform(instrument):\n",
        "    instrument.play()\n",
        "\n",
        "guitar = Guitar()\n",
        "piano = Piano()\n",
        "\n",
        "perform(guitar)\n",
        "perform(piano)\n"
      ],
      "metadata": {
        "colab": {
          "base_uri": "https://localhost:8080/"
        },
        "id": "lgO6Xj_t7RFe",
        "outputId": "91c6a09a-95af-4191-f493-52f410bf5408"
      },
      "execution_count": null,
      "outputs": [
        {
          "output_type": "stream",
          "name": "stdout",
          "text": [
            "Strumming the guitar\n",
            "Playing the piano\n"
          ]
        }
      ]
    },
    {
      "cell_type": "markdown",
      "source": [
        "7. Create a class MathOperations with a class method add_numbers() to add two numbers and a static\n",
        "method subtract_numbers() to subtract two numbers."
      ],
      "metadata": {
        "id": "R_eutV4H7RhY"
      }
    },
    {
      "cell_type": "code",
      "source": [
        "class MathOperations:\n",
        "    @classmethod\n",
        "    def add_numbers(cls, a, b):\n",
        "        return a + b\n",
        "\n",
        "    @staticmethod\n",
        "    def subtract_numbers(a, b):\n",
        "        return a - b\n",
        "\n",
        "# Using the class method\n",
        "sum_result = MathOperations.add_numbers(12, 7)\n",
        "print(\"Sum:\", sum_result)\n",
        "\n",
        "# Using the static method\n",
        "difference = MathOperations.subtract_numbers(12, 7)\n",
        "print(\"Difference:\", difference)\n"
      ],
      "metadata": {
        "colab": {
          "base_uri": "https://localhost:8080/"
        },
        "id": "KFgV99GQ7XMs",
        "outputId": "16b101b0-8858-4fee-cf72-f5b44ef5b3a0"
      },
      "execution_count": null,
      "outputs": [
        {
          "output_type": "stream",
          "name": "stdout",
          "text": [
            "Sum: 19\n",
            "Difference: 5\n"
          ]
        }
      ]
    },
    {
      "cell_type": "markdown",
      "source": [
        "8. Implement a class Person with a class method to count the total number of persons created."
      ],
      "metadata": {
        "id": "rbTHW0jE7XwU"
      }
    },
    {
      "cell_type": "code",
      "source": [
        "class Person:\n",
        "    count = 0\n",
        "\n",
        "    def __init__(self, name):\n",
        "        self.name = name\n",
        "        Person.count += 1\n",
        "\n",
        "    @classmethod\n",
        "    def get_person_count(cls):\n",
        "        return cls.count\n",
        "p1 = Person(\"Mansi\")\n",
        "p2 = Person(\"Neha\")\n",
        "p3 = Person(\"Abhi\")\n",
        "\n",
        "print(\"Total persons created:\", Person.get_person_count())\n"
      ],
      "metadata": {
        "colab": {
          "base_uri": "https://localhost:8080/"
        },
        "id": "8BegklWu7cZB",
        "outputId": "b2ac17d9-f378-4ae0-f58a-4bb064729edc"
      },
      "execution_count": null,
      "outputs": [
        {
          "output_type": "stream",
          "name": "stdout",
          "text": [
            "Total persons created: 3\n"
          ]
        }
      ]
    },
    {
      "cell_type": "markdown",
      "source": [
        "9. Write a class Fraction with attributes numerator and denominator. Override the str method to display the\n",
        "fraction as \"numerator/denominator\"."
      ],
      "metadata": {
        "id": "o9bPciFo7c0f"
      }
    },
    {
      "cell_type": "code",
      "source": [
        "class Fraction:\n",
        "    def __init__(self, numerator, denominator):\n",
        "        self.numerator = numerator\n",
        "        if denominator == 0:\n",
        "            raise ValueError(\"Denominator cannot be zero\")\n",
        "        self.denominator = denominator\n",
        "\n",
        "    def __str__(self):\n",
        "        return f\"{self.numerator}/{self.denominator}\"\n",
        "f1 = Fraction(6, 9)\n",
        "f2 = Fraction(7, 8)\n",
        "\n",
        "print(f1)\n",
        "print(f2)\n"
      ],
      "metadata": {
        "colab": {
          "base_uri": "https://localhost:8080/"
        },
        "id": "G2rMexBU7hmX",
        "outputId": "ae3fb57e-45a0-4e80-975c-ef6b27ffa448"
      },
      "execution_count": null,
      "outputs": [
        {
          "output_type": "stream",
          "name": "stdout",
          "text": [
            "6/9\n",
            "7/8\n"
          ]
        }
      ]
    },
    {
      "cell_type": "markdown",
      "source": [
        "10. Demonstrate operator overloading by creating a class Vector and overriding the add method to add two\n",
        "vectors.\n"
      ],
      "metadata": {
        "id": "ZudtQVjE7iBX"
      }
    },
    {
      "cell_type": "code",
      "source": [
        "class Vector:\n",
        "    def __init__(self, x, y):\n",
        "        self.x = x\n",
        "        self.y = y\n",
        "\n",
        "    def __add__(self, other):\n",
        "        return Vector(self.x + other.x, self.y + other.y)\n",
        "\n",
        "    def __str__(self):\n",
        "        return f\"({self.x}, {self.y})\"\n",
        "v1 = Vector(2, 3)\n",
        "v2 = Vector(4, 5)\n",
        "\n",
        "v3 = v1 + v2\n",
        "print(\"v1 + v2 =\", v3)\n"
      ],
      "metadata": {
        "colab": {
          "base_uri": "https://localhost:8080/"
        },
        "id": "-l4Msjy97nOQ",
        "outputId": "afeed264-9ec0-48a7-8765-e1571484eccc"
      },
      "execution_count": null,
      "outputs": [
        {
          "output_type": "stream",
          "name": "stdout",
          "text": [
            "v1 + v2 = (6, 8)\n"
          ]
        }
      ]
    },
    {
      "cell_type": "markdown",
      "source": [
        "11. Create a class Person with attributes name and age. Add a method greet() that prints \"Hello, my name is\n",
        "{name} and I am {age} years old.\""
      ],
      "metadata": {
        "id": "jqHdVCoJ7nxS"
      }
    },
    {
      "cell_type": "code",
      "source": [
        "class Person:\n",
        "    def __init__(self, name, age):\n",
        "        self.name = name\n",
        "        self.age = age\n",
        "\n",
        "    def greet(self):\n",
        "        print(f\"Hello, my name is {self.name} and I am {self.age} years old.\")\n",
        "p1 = Person(\"Mansi\", 20)\n",
        "p1.greet()"
      ],
      "metadata": {
        "colab": {
          "base_uri": "https://localhost:8080/"
        },
        "id": "E6F_CjUd7udN",
        "outputId": "45652267-b111-44e0-bd6a-815664f662cd"
      },
      "execution_count": null,
      "outputs": [
        {
          "output_type": "stream",
          "name": "stdout",
          "text": [
            "Hello, my name is Mansi and I am 20 years old.\n"
          ]
        }
      ]
    },
    {
      "cell_type": "markdown",
      "source": [
        "12. Implement a class Student with attributes name and grades. Create a method average_grade() to compute\n",
        "the average of the grades"
      ],
      "metadata": {
        "id": "ycyEyFW-7u29"
      }
    },
    {
      "cell_type": "code",
      "source": [
        "class Student:\n",
        "    def __init__(self, name, grades):\n",
        "        self.name = name\n",
        "        self.grades = grades\n",
        "\n",
        "    def average_grade(self):\n",
        "        if not self.grades:\n",
        "            return 0\n",
        "        return sum(self.grades) / len(self.grades)\n",
        "s1 = Student(\"Mansi\", [85, 90, 78, 92])\n",
        "print(f\"{s1.name}'s average grade: {s1.average_grade():.2f}\")\n"
      ],
      "metadata": {
        "colab": {
          "base_uri": "https://localhost:8080/"
        },
        "id": "yjOD2Xps7x-N",
        "outputId": "a3764b63-b815-40e4-b787-25380bbc2bc3"
      },
      "execution_count": null,
      "outputs": [
        {
          "output_type": "stream",
          "name": "stdout",
          "text": [
            "Mansi's average grade: 86.25\n"
          ]
        }
      ]
    },
    {
      "cell_type": "markdown",
      "source": [
        "13. Create a class Rectangle with methods set_dimensions() to set the dimensions and area() to calculate the area."
      ],
      "metadata": {
        "id": "TbQppmIg7ybF"
      }
    },
    {
      "cell_type": "code",
      "source": [
        "class Rectangle:\n",
        "    def __init__(self):\n",
        "        self.width = 0\n",
        "        self.height = 0\n",
        "\n",
        "    def set_dimensions(self, width, height):\n",
        "        self.width = width\n",
        "        self.height = height\n",
        "\n",
        "    def area(self):\n",
        "        return self.width * self.height\n",
        "rect = Rectangle()\n",
        "rect.set_dimensions(5, 10)\n",
        "print(\"Area of the rectangle:\", rect.area())\n"
      ],
      "metadata": {
        "colab": {
          "base_uri": "https://localhost:8080/"
        },
        "id": "s_sQa3ky73ML",
        "outputId": "2fcde654-556c-4655-985b-6f059f48e2ce"
      },
      "execution_count": null,
      "outputs": [
        {
          "output_type": "stream",
          "name": "stdout",
          "text": [
            "Area of the rectangle: 50\n"
          ]
        }
      ]
    },
    {
      "cell_type": "markdown",
      "source": [
        "14. Create a class Employee with a method calculate_salary() that computes the salary based on hours worked\n",
        "and hourly rate. Create a derived class Manager that adds a bonus to the salary."
      ],
      "metadata": {
        "id": "O73W4zuc73m6"
      }
    },
    {
      "cell_type": "code",
      "source": [
        "class Employee:\n",
        "    def __init__(self, name, hours_worked, hourly_rate):\n",
        "        self.name = name\n",
        "        self.hours_worked = hours_worked\n",
        "        self.hourly_rate = hourly_rate\n",
        "\n",
        "    def calculate_salary(self):\n",
        "        return self.hours_worked * self.hourly_rate\n",
        "class Manager(Employee):\n",
        "    def __init__(self, name, hours_worked, hourly_rate, bonus):\n",
        "        super().__init__(name, hours_worked, hourly_rate)\n",
        "        self.bonus = bonus\n",
        "\n",
        "    def calculate_salary(self):\n",
        "        base_salary = super().calculate_salary()\n",
        "        return base_salary + self.bonus\n",
        "emp = Employee(\"Mansi\", 40, 20)\n",
        "print(f\"{emp.name}'s Salary: ${emp.calculate_salary()}\")\n",
        "\n",
        "mgr = Manager(\"Abhi\", 40, 30, 500)\n",
        "print(f\"{mgr.name}'s Salary: ${mgr.calculate_salary()}\")\n"
      ],
      "metadata": {
        "colab": {
          "base_uri": "https://localhost:8080/"
        },
        "id": "7vhB-TzB7-cO",
        "outputId": "0ce8118b-7d12-4601-e47d-70f7ea8775df"
      },
      "execution_count": null,
      "outputs": [
        {
          "output_type": "stream",
          "name": "stdout",
          "text": [
            "Mansi's Salary: $800\n",
            "Abhi's Salary: $1700\n"
          ]
        }
      ]
    },
    {
      "cell_type": "markdown",
      "source": [
        "15. Create a class Product with attributes name, price, and quantity. Implement a method total_price() that\n",
        "calculates the total price of the product."
      ],
      "metadata": {
        "id": "40L9Gt007-3m"
      }
    },
    {
      "cell_type": "code",
      "source": [
        "class Product:\n",
        "    def __init__(self, name, price, quantity):\n",
        "        self.name = name\n",
        "        self.price = price\n",
        "        self.quantity = quantity\n",
        "\n",
        "    def total_price(self):\n",
        "        return self.price * self.quantity\n",
        "product = Product(\"Laptop\", 800, 2)\n",
        "print(f\"Total price for {product.quantity} {product.name}(s): ${product.total_price()}\")\n"
      ],
      "metadata": {
        "colab": {
          "base_uri": "https://localhost:8080/"
        },
        "id": "werM50cO8C7R",
        "outputId": "9fefd68c-c8ee-470a-975c-3a9505a03154"
      },
      "execution_count": null,
      "outputs": [
        {
          "output_type": "stream",
          "name": "stdout",
          "text": [
            "Total price for 2 Laptop(s): $1600\n"
          ]
        }
      ]
    },
    {
      "cell_type": "markdown",
      "source": [
        "16. Create a class Animal with an abstract method sound(). Create two derived classes Cow and Sheep that\n",
        "implement the sound() method."
      ],
      "metadata": {
        "id": "jPgYUgwv8Dbe"
      }
    },
    {
      "cell_type": "code",
      "source": [
        "from abc import ABC,abstractmethod\n",
        "class Animal(ABC):\n",
        "    @abstractmethod\n",
        "    def sound(self):\n",
        "        pass\n",
        "class Cow(Animal):\n",
        "    def sound(self):\n",
        "        return \"Moo\"\n",
        "class Sheep(Animal):\n",
        "    def sound(self):\n",
        "        return \"Baa\"\n",
        "cow = Cow()\n",
        "sheep = Sheep()\n",
        "\n",
        "print(\"Cow sound:\", cow.sound())\n",
        "print(\"Sheep sound:\", sheep.sound())\n"
      ],
      "metadata": {
        "colab": {
          "base_uri": "https://localhost:8080/"
        },
        "id": "OSn8yjLu8HCc",
        "outputId": "dd26d633-7c1b-4714-b7cb-b0f87153ab2d"
      },
      "execution_count": null,
      "outputs": [
        {
          "output_type": "stream",
          "name": "stdout",
          "text": [
            "Cow sound: Moo\n",
            "Sheep sound: Baa\n"
          ]
        }
      ]
    },
    {
      "cell_type": "markdown",
      "source": [
        "17. Create a class Book with attributes title, author, and year_published. Add a method get_book_info() that\n",
        "returns a formatted string with the book's details."
      ],
      "metadata": {
        "id": "3V2ukw6T8Hh9"
      }
    },
    {
      "cell_type": "code",
      "source": [
        "class Book:\n",
        "    def __init__(self, title, author, year_published):\n",
        "        self.title = title\n",
        "        self.author = author\n",
        "        self.year_published = year_published\n",
        "\n",
        "    def get_book_info(self):\n",
        "        return f\"'{self.title}' by {self.author}, published in {self.year_published}\"\n",
        "book = Book(\"To Kill a Mockingbird\", \"Harper Lee\", 1960)\n",
        "print(book.get_book_info())\n"
      ],
      "metadata": {
        "colab": {
          "base_uri": "https://localhost:8080/"
        },
        "id": "4-I4oq4B8MIl",
        "outputId": "26c657ab-756b-4aba-df19-95ec19d5c351"
      },
      "execution_count": null,
      "outputs": [
        {
          "output_type": "stream",
          "name": "stdout",
          "text": [
            "'To Kill a Mockingbird' by Harper Lee, published in 1960\n"
          ]
        }
      ]
    },
    {
      "cell_type": "markdown",
      "source": [
        "18. Create a class House with attributes address and price. Create a derived class Mansion that adds an\n",
        "attribute number_of_rooms."
      ],
      "metadata": {
        "id": "uhZLx5cH8Mdr"
      }
    },
    {
      "cell_type": "code",
      "source": [
        "class House:\n",
        "    def __init__(self, address, price):\n",
        "        self.address = address\n",
        "        self.price = price\n",
        "class Mansion(House):\n",
        "    def __init__(self, address, price, number_of_rooms):\n",
        "        super().__init__(address, price)\n",
        "        self.number_of_rooms = number_of_rooms\n",
        "mansion = Mansion(\"102 jp north\", 500000, 5)\n",
        "print(f\"Address: {mansion.address}\")\n",
        "print(f\"Price: ${mansion.price}\")\n",
        "print(f\"Number of Rooms: {mansion.number_of_rooms}\")"
      ],
      "metadata": {
        "colab": {
          "base_uri": "https://localhost:8080/"
        },
        "id": "UCRGEm7i8RYT",
        "outputId": "f83ab182-c9ed-43d8-ff49-b518fa7eadeb"
      },
      "execution_count": null,
      "outputs": [
        {
          "output_type": "stream",
          "name": "stdout",
          "text": [
            "Address: 102 jp north\n",
            "Price: $500000\n",
            "Number of Rooms: 5\n"
          ]
        }
      ]
    }
  ]
}